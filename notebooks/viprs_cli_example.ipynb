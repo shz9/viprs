{
  "nbformat": 4,
  "nbformat_minor": 0,
  "metadata": {
    "colab": {
      "provenance": [],
      "authorship_tag": "ABX9TyPe5YCaQPGCay7/3qdWWkE7",
      "include_colab_link": true
    },
    "kernelspec": {
      "name": "python3",
      "display_name": "Python 3"
    },
    "language_info": {
      "name": "python"
    }
  },
  "cells": [
    {
      "cell_type": "markdown",
      "metadata": {
        "id": "view-in-github",
        "colab_type": "text"
      },
      "source": [
        "<a href=\"https://colab.research.google.com/github/shz9/viprs/blob/master/notebooks/viprs_cli_example.ipynb\" target=\"_parent\"><img src=\"https://colab.research.google.com/assets/colab-badge.svg\" alt=\"Open In Colab\"/></a>"
      ]
    },
    {
      "cell_type": "markdown",
      "source": [
        "# Running `viprs` on GWAS summary statistics for Standing Height from the UK Biobank\n",
        "\n",
        "**Author**: [Shadi Zabad](https://github.com/shz9) (McGill University)\n",
        "\n",
        "In this notebook, we will provide a concrete example of how to perform polygenic risk score (PRS) inference from GWAS summary statistics using the software `viprs`. In particular, we will showcase how to use the commandline interface to perform inference from genome-wide summary data, covering up to 1.1 million HapMap3 variants.\n",
        "\n",
        "Before starting, here are some helpful links:\n",
        "\n",
        "* `viprs` [homepage](https://github.com/shz9/viprs) + [documentation](https://shz9.github.io/viprs/).\n",
        "* `magenpy` [homepage](https://github.com/shz9/magenpy) + [documentation](https://shz9.github.io/magenpy/).\n",
        "* [GWAS summary statistics for 9 quantitative phenotypes from the UK Biobank (5-fold cross-validation)](https://zenodo.org/records/14612130)\n",
        "* [Linkage-Disequilibrium (LD) matrices for six continental ancestry groups from the UK Biobank](https://zenodo.org/records/14614207)\n",
        "* [VIPRS manuscript](https://pubmed.ncbi.nlm.nih.gov/37030289/)\n",
        "\n",
        "\n",
        "\n",
        "## Install dependencies\n",
        "\n",
        "Before we proceed, first we will install the latest version of the `viprs` package (`v0.1.2`) and its associated dependencies (e.g. `magenpy>0.1.4`). To do that, we will use the `pip` package installer:\n"
      ],
      "metadata": {
        "id": "yEutywATZy4D"
      }
    },
    {
      "cell_type": "code",
      "execution_count": 1,
      "metadata": {
        "colab": {
          "base_uri": "https://localhost:8080/"
        },
        "id": "5ChsdJAiYlRF",
        "outputId": "122c6aa1-4c4e-4b22-cf65-783bcf32a9ec"
      },
      "outputs": [
        {
          "output_type": "stream",
          "name": "stdout",
          "text": [
            "  Preparing metadata (setup.py) ... \u001b[?25l\u001b[?25hdone\n",
            "\u001b[2K   \u001b[90m━━━━━━━━━━━━━━━━━━━━━━━━━━━━━━━━━━━━━━━━\u001b[0m \u001b[32m3.8/3.8 MB\u001b[0m \u001b[31m36.6 MB/s\u001b[0m eta \u001b[36m0:00:00\u001b[0m\n",
            "\u001b[2K   \u001b[90m━━━━━━━━━━━━━━━━━━━━━━━━━━━━━━━━━━━━━━━━\u001b[0m \u001b[32m3.8/3.8 MB\u001b[0m \u001b[31m18.5 MB/s\u001b[0m eta \u001b[36m0:00:00\u001b[0m\n",
            "\u001b[2K   \u001b[90m━━━━━━━━━━━━━━━━━━━━━━━━━━━━━━━━━━━━━━━━\u001b[0m \u001b[32m13.0/13.0 MB\u001b[0m \u001b[31m63.3 MB/s\u001b[0m eta \u001b[36m0:00:00\u001b[0m\n",
            "\u001b[2K   \u001b[90m━━━━━━━━━━━━━━━━━━━━━━━━━━━━━━━━━━━━━━━━\u001b[0m \u001b[32m1.2/1.2 MB\u001b[0m \u001b[31m39.6 MB/s\u001b[0m eta \u001b[36m0:00:00\u001b[0m\n",
            "\u001b[2K   \u001b[90m━━━━━━━━━━━━━━━━━━━━━━━━━━━━━━━━━━━━━━━━\u001b[0m \u001b[32m1.2/1.2 MB\u001b[0m \u001b[31m37.0 MB/s\u001b[0m eta \u001b[36m0:00:00\u001b[0m\n",
            "\u001b[2K   \u001b[90m━━━━━━━━━━━━━━━━━━━━━━━━━━━━━━━━━━━━━━━━\u001b[0m \u001b[32m210.7/210.7 kB\u001b[0m \u001b[31m4.9 MB/s\u001b[0m eta \u001b[36m0:00:00\u001b[0m\n",
            "\u001b[2K   \u001b[90m━━━━━━━━━━━━━━━━━━━━━━━━━━━━━━━━━━━━━━━━\u001b[0m \u001b[32m42.2/42.2 kB\u001b[0m \u001b[31m2.5 MB/s\u001b[0m eta \u001b[36m0:00:00\u001b[0m\n",
            "\u001b[2K   \u001b[90m━━━━━━━━━━━━━━━━━━━━━━━━━━━━━━━━━━━━━━━━\u001b[0m \u001b[32m8.6/8.6 MB\u001b[0m \u001b[31m69.7 MB/s\u001b[0m eta \u001b[36m0:00:00\u001b[0m\n",
            "\u001b[2K   \u001b[90m━━━━━━━━━━━━━━━━━━━━━━━━━━━━━━━━━━━━━━━━\u001b[0m \u001b[32m5.4/5.4 MB\u001b[0m \u001b[31m62.3 MB/s\u001b[0m eta \u001b[36m0:00:00\u001b[0m\n",
            "\u001b[2K   \u001b[90m━━━━━━━━━━━━━━━━━━━━━━━━━━━━━━━━━━━━━━━━\u001b[0m \u001b[32m261.4/261.4 kB\u001b[0m \u001b[31m14.5 MB/s\u001b[0m eta \u001b[36m0:00:00\u001b[0m\n",
            "\u001b[?25h  Building wheel for asciitree (setup.py) ... \u001b[?25l\u001b[?25hdone\n",
            "\u001b[31mERROR: pip's dependency resolver does not currently take into account all the packages that are installed. This behaviour is the source of the following dependency conflicts.\n",
            "google-colab 1.0.0 requires pandas==2.2.2, but you have pandas 2.2.1 which is incompatible.\u001b[0m\u001b[31m\n",
            "\u001b[0mName: viprs\n",
            "Version: 0.1.2\n",
            "Summary: Variational Inference of Polygenic Risk Scores (VIPRS)\n",
            "Home-page: https://github.com/shz9/viprs\n",
            "Author: Shadi Zabad\n",
            "Author-email: shadi.zabad@mail.mcgill.ca\n",
            "License: \n",
            "Location: /usr/local/lib/python3.10/dist-packages\n",
            "Requires: magenpy, numpy, pandas, psutil, scikit-learn, scipy, statsmodels, tqdm\n",
            "Required-by: \n"
          ]
        }
      ],
      "source": [
        "!pip install -q viprs\n",
        "!pip show viprs"
      ]
    },
    {
      "cell_type": "markdown",
      "source": [
        "## The data\n",
        "\n",
        "Summary statistics-based PRS methods, including `viprs`, require two sources of data to perform inference:\n",
        "\n",
        "* **GWAS summary statistics**: These are tabular files that record the marginal associations (p-values, betas, etc.) between each genetic variant and the phenotype of interest. The phenotype that we will illustrate here is Standing Height (`HEIGHT`) and the data is provided by the UK Biobank. **Note**:\n",
        "  * You can download and inspect the summary statistics [here](https://zenodo.org/records/14612130).\n",
        "  * The GWAS data was generated from European samples ($N=337225$), which were split into 5-folds for the purposes of cross-validation. After splitting the samples, we performed GWAS on each training/testing subset separately and generated corresponding summary statistics. This allows us to evaluate the performance of PRS models without access to individual-level data, using \"[pseudo-validation](https://pmc.ncbi.nlm.nih.gov/articles/PMC7612115/#S24)\". In this example, we will use training/testing summary statistics for the first split `fold_1`.\n",
        "    * Given the splitting procedure, training samples come to about ~270,000 individuals whereas testing samples come to about ~67,000 individuals.\n",
        "  * GWAS summary statistics come in many formats (depending on the software used to perform the association testing), and the `viprs` method supports many popular formats natively. In this example, we used `plink2` to perform association testing, so the summary statistics are in `plink` format.\n",
        "* **Linkage-Disequilibrium (LD) matrices**: LD matrices record pairwise correlations between genetic variants. These pairwise correlations tend to vary across populations, so you need to make sure that the LD matrix comes from a cohort that is roughly similar in ancestry to the GWAS cohort. **Note:**\n",
        "  * LD matrices compatible with `viprs` can be downloaded from [here](https://zenodo.org/records/14614207).\n",
        "  * Since the GWAS data was generated from European samples in the UK Biobank, we will use an LD matrix generated from European samples `EUR.tar.gz`.\n",
        "\n",
        "\n",
        "The following commands illustrate how to download and extract this data via the commandline (this should take a couple of minutes):"
      ],
      "metadata": {
        "id": "vcOeaWltaYdS"
      }
    },
    {
      "cell_type": "code",
      "source": [
        "# Create directories for summary statistics and LD data:\n",
        "\n",
        "!rm -rf /content/sumstats/\n",
        "!rm -rf /content/ld/\n",
        "!mkdir -p /content/sumstats/\n",
        "!mkdir -p /content/ld/EUR/\n",
        "\n",
        "# Download and extract the height GWAS summary statistics:\n",
        "!wget -O /content/sumstats/HEIGHT.tar.gz https://zenodo.org/records/14612130/files/HEIGHT.tar.gz?download=1\n",
        "!tar -xzf /content/sumstats/HEIGHT.tar.gz -C /content/sumstats/\n",
        "!rm /content/sumstats/HEIGHT.tar.gz\n",
        "\n",
        "# Download and extract the LD data for European samples:\n",
        "!wget -O /content/ld/EUR.tar.gz https://zenodo.org/records/14614207/files/EUR.tar.gz?download=1\n",
        "!tar -xzf /content/ld/EUR.tar.gz -C /content/ld/EUR/\n",
        "!rm /content/ld/EUR.tar.gz\n"
      ],
      "metadata": {
        "colab": {
          "base_uri": "https://localhost:8080/"
        },
        "id": "WHq7Fu18eQAQ",
        "outputId": "bca2eabd-0105-466a-d658-24c47f0c5616"
      },
      "execution_count": 2,
      "outputs": [
        {
          "output_type": "stream",
          "name": "stdout",
          "text": [
            "--2025-01-09 07:54:45--  https://zenodo.org/records/14612130/files/HEIGHT.tar.gz?download=1\n",
            "Resolving zenodo.org (zenodo.org)... 188.185.45.92, 188.185.43.25, 188.185.48.194, ...\n",
            "Connecting to zenodo.org (zenodo.org)|188.185.45.92|:443... connected.\n",
            "HTTP request sent, awaiting response... 200 OK\n",
            "Length: 519102714 (495M) [application/octet-stream]\n",
            "Saving to: ‘/content/sumstats/HEIGHT.tar.gz’\n",
            "\n",
            "/content/sumstats/H 100%[===================>] 495.05M  8.27MB/s    in 57s     \n",
            "\n",
            "2025-01-09 07:55:43 (8.74 MB/s) - ‘/content/sumstats/HEIGHT.tar.gz’ saved [519102714/519102714]\n",
            "\n",
            "--2025-01-09 07:56:00--  https://zenodo.org/records/14614207/files/EUR.tar.gz?download=1\n",
            "Resolving zenodo.org (zenodo.org)... 188.185.45.92, 188.185.48.194, 188.185.43.25, ...\n",
            "Connecting to zenodo.org (zenodo.org)|188.185.45.92|:443... connected.\n",
            "HTTP request sent, awaiting response... 200 OK\n",
            "Length: 309648007 (295M) [application/octet-stream]\n",
            "Saving to: ‘/content/ld/EUR.tar.gz’\n",
            "\n",
            "/content/ld/EUR.tar 100%[===================>] 295.30M  14.4MB/s    in 2m 45s  \n",
            "\n",
            "2025-01-09 07:58:45 (1.79 MB/s) - ‘/content/ld/EUR.tar.gz’ saved [309648007/309648007]\n",
            "\n"
          ]
        }
      ]
    },
    {
      "cell_type": "code",
      "source": [
        "# Inspect the data:\n",
        "\n",
        "!echo -e \">>> Check that we have summary statistics for training/testing datasets:\"\n",
        "!ls /content/sumstats/HEIGHT\n",
        "!echo -e \"\\n>>> Check that the summary statistics files for all chromosomes are present:\"\n",
        "!ls /content/sumstats/HEIGHT/train/fold_1/\n",
        "!echo -e \"\\n>>> Check we have LD matrices for all chromosomes:\"\n",
        "!ls /content/ld/EUR/"
      ],
      "metadata": {
        "colab": {
          "base_uri": "https://localhost:8080/"
        },
        "id": "BUlj4LTu773q",
        "outputId": "c9bd3795-aef7-4aaf-cdd4-6fbe1aaa21c6"
      },
      "execution_count": 3,
      "outputs": [
        {
          "output_type": "stream",
          "name": "stdout",
          "text": [
            ">>> Check that we have summary statistics for training/testing datasets:\n",
            "test  train  validation\n",
            "\n",
            ">>> Check that the summary statistics files for all chromosomes are present:\n",
            "chr_10.PHENO1.glm.linear  chr_18.PHENO1.glm.linear  chr_4.PHENO1.glm.linear\n",
            "chr_11.PHENO1.glm.linear  chr_19.PHENO1.glm.linear  chr_5.PHENO1.glm.linear\n",
            "chr_12.PHENO1.glm.linear  chr_1.PHENO1.glm.linear   chr_6.PHENO1.glm.linear\n",
            "chr_13.PHENO1.glm.linear  chr_20.PHENO1.glm.linear  chr_7.PHENO1.glm.linear\n",
            "chr_14.PHENO1.glm.linear  chr_21.PHENO1.glm.linear  chr_8.PHENO1.glm.linear\n",
            "chr_15.PHENO1.glm.linear  chr_22.PHENO1.glm.linear  chr_9.PHENO1.glm.linear\n",
            "chr_16.PHENO1.glm.linear  chr_2.PHENO1.glm.linear\n",
            "chr_17.PHENO1.glm.linear  chr_3.PHENO1.glm.linear\n",
            "\n",
            ">>> Check we have LD matrices for all chromosomes:\n",
            "chr_1\tchr_11\tchr_13\tchr_15\tchr_17\tchr_19\tchr_20\tchr_22\tchr_4  chr_6  chr_8\n",
            "chr_10\tchr_12\tchr_14\tchr_16\tchr_18\tchr_2\tchr_21\tchr_3\tchr_5  chr_7  chr_9\n"
          ]
        }
      ]
    },
    {
      "cell_type": "markdown",
      "source": [
        "## Fit `viprs` model to GWAS summary statistics data\n",
        "\n",
        "Here, we will use the commandline interface of the `VIPRS` method to perform Bayesian inference and estimate the joint effect sizes for ~1.1 million HapMap3 variants on height.\n",
        "\n",
        "The commandline interface for VIPRS can be accessed by simply using the `viprs_fit` command, which requires 4 important arguments:\n",
        "\n",
        "* `-l` or `--ld-panel` is the path to the LD data. This path can contain a wildcard, like `*` to include data for multiple chromosomes.\n",
        "* `-s` or `--sumstats` is the path to the summary statistics file(s). This also takes wildcards to accommodates multiple sumstats files.\n",
        "* `--sumstats-format` is the format of the summary statistics. In this case, we used `plink2` to perform association testing, so we specify the format as `plink`.\n",
        "* `--output-dir`: The output directory where the joint effect sizes/inference results will be stored.\n",
        "\n",
        "Putting all of this together gives the following simple command:"
      ],
      "metadata": {
        "id": "uvQaPRkeqUW9"
      }
    },
    {
      "cell_type": "code",
      "source": [
        "!viprs_fit -l \"/content/ld/EUR/chr_*\" \\\n",
        "           -s \"/content/sumstats/HEIGHT/train/fold_1/chr_*\" \\\n",
        "           --sumstats-format \"plink\" \\\n",
        "           --output-dir \"/content/model_fit/fold_1/\""
      ],
      "metadata": {
        "colab": {
          "base_uri": "https://localhost:8080/"
        },
        "id": "xjoWNbnMqZQQ",
        "outputId": "64e7bb30-2970-401a-865f-598826468c26"
      },
      "execution_count": 4,
      "outputs": [
        {
          "output_type": "stream",
          "name": "stdout",
          "text": [
            "\n",
            "        **********************************************\n",
            "                    _____\n",
            "            ___   _____(_)________ ________________\n",
            "            __ | / /__  / ___  __ \\__  ___/__  ___/\n",
            "            __ |/ / _  /  __  /_/ /_  /    _(__  )\n",
            "            _____/  /_/   _  .___/ /_/     /____/\n",
            "                          /_/\n",
            "        Variational Inference of Polygenic Risk Scores\n",
            "        Version: 0.1.2 | Release date: December 2024\n",
            "        Author: Shadi Zabad, McGill University\n",
            "        **********************************************\n",
            "        < Fit VIPRS models to GWAS summary statistics >\n",
            "    \n",
            "---------------------  Parsed arguments  ---------------------\n",
            "\n",
            "-- ld_dir : /content/ld/EUR/chr_*\n",
            "-- sumstats_path : /content/sumstats/HEIGHT/train/fold_1/chr_*\n",
            "-- output_dir : /content/model_fit/fold_1/\n",
            "\n",
            "-------------  Reading & harmonizing input data  -------------\n",
            "\n",
            "> Reading the training dataset...\n",
            "Reading LD metadata: 100% 22/22 [00:00<00:00, 210.12it/s]\n",
            "Reading summary statistics: 100% 22/22 [00:04<00:00,  4.83it/s]\n",
            "Harmonizing data: 100% 22/22 [00:07<00:00,  3.13it/s]\n",
            "\n",
            "----------------------  Model details  -----------------------\n",
            "\n",
            "- Model: VIPRS\n",
            "- Hyperparameter tuning strategy: Expectation maximization\n",
            "\n",
            "------------------------  Inference  -------------------------\n",
            "\n",
            "Chromosome 1 (82666 variants): 100% 62/62 [00:04<00:00, 14.68it/s, Final ELBO=-341373.6432]\n",
            "Chromosome 2 (80015 variants): 100% 57/57 [00:03<00:00, 15.91it/s, Final ELBO=-341349.5383]\n",
            "Chromosome 3 (68253 variants): 100% 56/56 [00:02<00:00, 21.12it/s, Final ELBO=-341781.5820]\n",
            "Chromosome 4 (63236 variants): 100% 47/47 [00:01<00:00, 24.22it/s, Final ELBO=-342099.9138]\n",
            "Chromosome 5 (60522 variants): 100% 47/47 [00:01<00:00, 23.91it/s, Final ELBO=-341941.6210]\n",
            "Chromosome 6 (60085 variants): 100% 37/37 [00:01<00:00, 18.89it/s, Final ELBO=-341166.5767]\n",
            "Chromosome 7 (54688 variants): 100% 44/44 [00:01<00:00, 23.23it/s, Final ELBO=-341828.4421]\n",
            "Chromosome 8 (52600 variants): 100% 93/93 [00:03<00:00, 24.34it/s, Final ELBO=-342310.5577]\n",
            "Chromosome 9 (46372 variants): 100% 49/49 [00:01<00:00, 25.72it/s, Final ELBO=-342259.6083]\n",
            "Chromosome 10 (53991 variants): 100% 55/55 [00:02<00:00, 21.69it/s, Final ELBO=-342626.0561]\n",
            "Chromosome 11 (49042 variants): 100% 74/74 [00:03<00:00, 23.00it/s, Final ELBO=-342783.1623]\n",
            "Chromosome 12 (48021 variants): 100% 44/44 [00:01<00:00, 26.52it/s, Final ELBO=-341802.7608]\n",
            "Chromosome 13 (38495 variants): 100% 44/44 [00:01<00:00, 32.47it/s, Final ELBO=-343126.2935]\n",
            "Chromosome 14 (11381 variants): 100% 49/49 [00:00<00:00, 101.02it/s, Final ELBO=-343504.0866]\n",
            "Chromosome 15 (30345 variants): 100% 34/34 [00:00<00:00, 42.12it/s, Final ELBO=-342067.5346]\n",
            "Chromosome 16 (30956 variants): 100% 46/46 [00:01<00:00, 44.08it/s, Final ELBO=-342840.8443]\n",
            "Chromosome 17 (27253 variants): 100% 33/33 [00:00<00:00, 48.10it/s, Final ELBO=-341953.7641]\n",
            "Chromosome 18 (30102 variants): 100% 54/54 [00:01<00:00, 40.41it/s, Final ELBO=-343165.4282]\n",
            "Chromosome 19 (18755 variants): 100% 48/48 [00:00<00:00, 69.56it/s, Final ELBO=-342756.9041]\n",
            "Chromosome 20 (25754 variants): 100% 53/53 [00:01<00:00, 36.10it/s, Final ELBO=-342730.8525]\n",
            "Chromosome 21 (14468 variants): 100% 61/61 [00:00<00:00, 67.75it/s, Final ELBO=-343519.7131]\n",
            "Chromosome 22 (14671 variants): 100% 42/42 [00:00<00:00, 85.13it/s, Final ELBO=-343437.9285]\n",
            "\n",
            "--------------------------------------------------------------\n",
            "\n",
            "\n",
            ">>> Writing the inference results to:\n",
            " /content/model_fit/fold_1/\n",
            ">>> Total Runtime:\n",
            " 0:00:57.414620\n"
          ]
        }
      ]
    },
    {
      "cell_type": "markdown",
      "source": [
        "Here we see that the total runtime is under a minute (as promised 😊). Before we examine the prediction accuracy, let's take a look at some of the outputs of the `VIPRS` software:"
      ],
      "metadata": {
        "id": "EFrdBfof9uPf"
      }
    },
    {
      "cell_type": "code",
      "source": [
        "!echo -e \">>> The output files:\"\n",
        "!ls /content/model_fit/fold_1/\n",
        "!echo -e \"\\n\\n>>> The inferred coefficients:\"\n",
        "!zcat /content/model_fit/fold_1/VIPRS_EM.fit.gz | head\n",
        "!echo -e \"\\n\\n>>> The inferred hyperparameters:\"\n",
        "!head /content/model_fit/fold_1/VIPRS_EM.hyp"
      ],
      "metadata": {
        "colab": {
          "base_uri": "https://localhost:8080/"
        },
        "id": "kLO4I-ce9vjf",
        "outputId": "8455b92e-9b4b-42e6-a804-cb402c8ccaac"
      },
      "execution_count": 5,
      "outputs": [
        {
          "output_type": "stream",
          "name": "stdout",
          "text": [
            ">>> The output files:\n",
            "VIPRS_EM.fit.gz  VIPRS_EM.hyp\n",
            "\n",
            "\n",
            ">>> The inferred coefficients:\n",
            "CHR\tSNP\tPOS\tA1\tA2\tBETA\tPIP\tVAR_BETA\n",
            "1\trs3131969\t754182\tG\tA\t1.5851767e-05\t0.005957168\t6.393746e-08\n",
            "1\trs12562034\t768448\tA\tG\t5.751042e-06\t0.003384103\t2.2167043e-08\n",
            "1\trs4040617\t779322\tG\tA\t-1.0923352e-05\t0.0047237603\t4.2486075e-08\n",
            "1\trs4970383\t838555\tA\tC\t-1.177829e-05\t0.0049418714\t4.6080107e-08\n",
            "1\trs4475691\t846808\tT\tC\t1.6584332e-06\t0.0024371801\t1.0095775e-08\n",
            "1\trs1806509\t853954\tA\tC\t5.154455e-07\t0.002304032\t8.591414e-09\n",
            "1\trs7537756\t854250\tG\tA\t3.944214e-06\t0.0029266176\t1.6056708e-08\n",
            "1\trs1110052\t873558\tT\tG\t-1.777716e-05\t0.0064354097\t7.2422765e-08\n",
            "1\trs7523549\t879317\tT\tC\t-1.0675438e-05\t0.004659816\t4.1472923e-08\n",
            "\n",
            "\n",
            ">>> The inferred hyperparameters:\n",
            "Parameter\tValue\tChromosome\n",
            "Residual_variance\t0.9639948271214962\t1\n",
            "Heritability\t0.03600596293318329\t1\n",
            "Proportion_causal\t0.008169818669557571\t1\n",
            "Average_effect_variance\t3.8763286624998727e-07\t1\n",
            "Lambda_min\t0.0\t1\n",
            "tau_beta\t21076.17578125\t1\n",
            "Residual_variance\t0.962906502187252\t2\n",
            "Heritability\t0.03708918609172732\t2\n",
            "Proportion_causal\t0.008987661451101303\t2\n"
          ]
        }
      ]
    },
    {
      "cell_type": "markdown",
      "source": [
        "Here, we see that in its standard form, the `viprs` software outputs two files:\n",
        "\n",
        "* `VIPRS_EM.fit.gz`: The file contains the inferred effect sizes for all the variants included in the analysis. The columns include standard variant information, such as rsID, position, as well as reference and alternative alleles. It also includes the posterior moments for the effect size, including its posterior mean `BETA`, posterior variance `VAR_BETA`, and posterior includion probability `PIP`.\n",
        "* `VIPRS_EM.hyp`: This file contains the inferred hyperparameters of the model. The hyperparameters of the model include proportion of causal variants ($\\pi$), residual variance ($\\sigma_\\epsilon^2$), and the pseudo-heritability. Since hyperparameter inference is done on per-chromosome basis, we will have these estimates for each chromosome separately.\n",
        "\n",
        "## Evaluate `viprs` prediction accuracy using \"pseudo R-Squared\"\n",
        "\n",
        "Once the model fitting step is completed, we can go ahead and perform model evaluation. In practical settings, we will have a held-out test dataset with individual-level data where we can do systematic model checking and evaluation. However, this is not possible in this case, as this tutorial will be released to the public.\n",
        "\n",
        "So, instead, we will perform \"[pseudo-validation](https://pmc.ncbi.nlm.nih.gov/articles/PMC7612115/#S24)\", where we use summary statistics from an independent dataset to approximate the prediction accuracy on a held-out set. Thankfully, this \"test\" summary statistics for Standing Height is provided for us from the Zenodo archive discussed earlier (the data was downloaded and can be found under `/content/sumstats/HEIGHT/test/fold_1/`).\n",
        "\n",
        "How do we compute this \"pseudo R-squared\"? We will use the evaluation utilities from the `viprs` package to compute this metric.\n",
        "\n",
        "The following code snippet illustrates how this is done in practice:"
      ],
      "metadata": {
        "id": "fCB0Xa_daiy8"
      }
    },
    {
      "cell_type": "code",
      "source": [
        "# Import the depenedencies:\n",
        "import magenpy as mgp\n",
        "import pandas as pd\n",
        "from viprs.eval.pseudo_metrics import pseudo_r2\n",
        "\n",
        "# Read the test summary statistics:\n",
        "test_gdl = mgp.GWADataLoader(ld_store_files=\"/content/ld/EUR/chr_*\",\n",
        "                             sumstats_files=\"/content/sumstats/HEIGHT/test/fold_1/chr_*\",\n",
        "                             sumstats_format=\"plink\")\n",
        "\n",
        "# Read the joint effect sizes inferred by `viprs`:\n",
        "inferred_betas = pd.read_csv(\"/content/model_fit/fold_1/VIPRS_EM.fit.gz\", sep=\"\\t\")\n",
        "\n",
        "# Compute the pseudo R-squared metric:\n",
        "print(\"------- Psuedo-evaluation result -------\")\n",
        "print(\"\\nPseudo-R2:\", pseudo_r2(test_gdl, inferred_betas))"
      ],
      "metadata": {
        "colab": {
          "base_uri": "https://localhost:8080/"
        },
        "id": "RUUXaS0rrMng",
        "outputId": "9596736f-35f2-44ce-9cfe-89f662308c47"
      },
      "execution_count": 6,
      "outputs": [
        {
          "output_type": "stream",
          "name": "stderr",
          "text": [
            "Reading LD metadata: 100%|██████████| 22/22 [00:00<00:00, 365.02it/s]\n",
            "Reading summary statistics: 100%|██████████| 22/22 [00:03<00:00,  5.75it/s]\n",
            "Harmonizing data: 100%|██████████| 22/22 [00:09<00:00,  2.42it/s]\n"
          ]
        },
        {
          "output_type": "stream",
          "name": "stdout",
          "text": [
            "------- Psuedo-evaluation result -------\n",
            "\n",
            "Pseudo-R2: [0.33469194]\n"
          ]
        }
      ]
    },
    {
      "cell_type": "markdown",
      "source": [
        "Here, we see that the pseudo R-Squared of VIPRS is roughly 33%, which is a good result for height!"
      ],
      "metadata": {
        "id": "Jt6roI05AbK3"
      }
    },
    {
      "cell_type": "markdown",
      "source": [
        "## Compute and visualize height polygenic scores in 1000G European samples\n",
        "\n",
        "Finally, to showcase more general use cases where we actually need to compute these polygenic scores for some downstream analysis, here we demonstrate how to use the inferred effect sizes to estimate polygenic scores for new samples.\n",
        "\n",
        "In this case, we will use genotype data from European samples ($N=378$) in the 1000G project (CHR22 only).\n",
        "\n",
        "With utilities provided by `magenpy` and `viprs`, this can be easily done as follows:"
      ],
      "metadata": {
        "id": "loGr3dTwazN0"
      }
    },
    {
      "cell_type": "code",
      "source": [
        "from viprs.model.BayesPRSModel import BayesPRSModel\n",
        "import matplotlib.pyplot as plt\n",
        "\n",
        "# Load the genotype data (already attached with magenpy):\n",
        "gdl = mgp.GWADataLoader(mgp.tgp_eur_data_path())\n",
        "# Initialize the PRS model:\n",
        "fitted_model = BayesPRSModel(gdl)\n",
        "# Read the inferred effect sizes and harmonize them with the genotype data:\n",
        "fitted_model.read_inferred_parameters(\"/content/model_fit/fold_1/VIPRS_EM.fit.gz\")\n",
        "\n",
        "# Perform linear scoring (i.e. prediction) on the 1000G samples:\n",
        "prs = fitted_model.predict()\n",
        "\n",
        "# Visualize the polygenic score distribution:\n",
        "plt.hist(prs)\n",
        "plt.xlabel(\"Height Polygenic Score\")\n",
        "plt.title(\"Height PGS in 1000G European Samples\\n(using HapMap3 variants on CHR22)\")\n",
        "plt.ylabel(\"Frequency\")\n",
        "plt.show()"
      ],
      "metadata": {
        "colab": {
          "base_uri": "https://localhost:8080/",
          "height": 529
        },
        "id": "kGkEgGNUtexn",
        "outputId": "25eb3dac-8bf9-47da-94a0-9335cbe9fead"
      },
      "execution_count": 7,
      "outputs": [
        {
          "output_type": "stream",
          "name": "stdout",
          "text": [
            "> Reading genotype metadata...\n",
            "> Generating polygenic scores...\n"
          ]
        },
        {
          "output_type": "display_data",
          "data": {
            "text/plain": [
              "<Figure size 640x480 with 1 Axes>"
            ],
            "image/png": "[encoded data removed]"
          },
          "metadata": {}
        }
      ]
    },
    {
      "cell_type": "markdown",
      "source": [
        "The code above uses the python API to achieve this task. If you have large data, you can also use the commandline script `viprs_score` to compute polygenic scores for new test samples, by providing the following required data:\n",
        "\n",
        "* `-f` or `--fit-files`: These files are the output of the `viprs_fit` script and contain the effect sizes for each variant from the training sit.\n",
        "* `--bfile`: The path to the plink1.9 BED files, containing the genotype data for new test samples for whom we wish to compute polygenic scores.\n",
        "* `--output-file`: The path of the output file containing the computed polygenic scores."
      ],
      "metadata": {
        "id": "PzvLEMZ5BWZs"
      }
    },
    {
      "cell_type": "code",
      "source": [
        "!viprs_score -f \"/content/model_fit/fold_1/VIPRS_EM.fit.gz\" \\\n",
        "             --bfile {mgp.tgp_eur_data_path()} \\\n",
        "             --output-file \"/content/polygenic_scores/HEIGHT_PGS\""
      ],
      "metadata": {
        "colab": {
          "base_uri": "https://localhost:8080/"
        },
        "id": "k7kZXqPVt8dF",
        "outputId": "1b133ca9-cf67-4212-80ab-ed4d19f3daad"
      },
      "execution_count": 8,
      "outputs": [
        {
          "output_type": "stream",
          "name": "stdout",
          "text": [
            "\n",
            "        **********************************************\n",
            "                    _____\n",
            "            ___   _____(_)________ ________________\n",
            "            __ | / /__  / ___  __ \\__  ___/__  ___/\n",
            "            __ |/ / _  /  __  /_/ /_  /    _(__  )\n",
            "            _____/  /_/   _  .___/ /_/     /____/\n",
            "                          /_/\n",
            "        Variational Inference of Polygenic Risk Scores\n",
            "        Version: 0.1.2 | Release date: December 2024\n",
            "        Author: Shadi Zabad, McGill University\n",
            "        **********************************************\n",
            "        < Compute Polygenic Scores for Test Samples >\n",
            "\n",
            "---------------------  Parsed arguments  ---------------------\n",
            "\n",
            "-- fit_files : /content/model_fit/fold_1/VIPRS_EM.fit.gz\n",
            "-- bed_files : /usr/local/lib/python3.10/dist-packages/magenpy/data/1000G_eur_chr22\n",
            "-- output_file : /content/polygenic_scores/HEIGHT_PGS\n",
            "\n",
            "--------------------  Reading input data  --------------------\n",
            "\n",
            "> Reading genotype metadata...\n",
            "\n",
            "--------------------------------------------------------------\n",
            "\n",
            "> Generating polygenic scores...\n",
            "> Generating polygenic scores...\n",
            "> Cleaning up workspace.\n",
            "\n",
            ">>> Writing the polygenic scores to:\n",
            " /content/polygenic_scores\n"
          ]
        }
      ]
    },
    {
      "cell_type": "markdown",
      "source": [
        "Then by examining the output of the scoring script, we should obtain a file with the computed polygenic scores for all samples:"
      ],
      "metadata": {
        "id": "1gMHmprZDOLp"
      }
    },
    {
      "cell_type": "code",
      "source": [
        "!head /content/polygenic_scores/HEIGHT_PGS.prs"
      ],
      "metadata": {
        "colab": {
          "base_uri": "https://localhost:8080/"
        },
        "id": "XJHgasplDZxD",
        "outputId": "95b7b85e-0bbc-42a7-9b54-416e980dedbb"
      },
      "execution_count": 9,
      "outputs": [
        {
          "output_type": "stream",
          "name": "stdout",
          "text": [
            "FID\tIID\tPRS\n",
            "HG00096\tHG00096\t0.06691417543255179\n",
            "HG00097\tHG00097\t0.030360036369785275\n",
            "HG00099\tHG00099\t0.1066015204373609\n",
            "HG00100\tHG00100\t0.007578159069944201\n",
            "HG00101\tHG00101\t0.06770485529834258\n",
            "HG00102\tHG00102\t0.04497787434307732\n",
            "HG00103\tHG00103\t0.03129566008984677\n",
            "HG00105\tHG00105\t0.040493636848509304\n",
            "HG00106\tHG00106\t0.039545681433869974\n"
          ]
        }
      ]
    }
  ]
}